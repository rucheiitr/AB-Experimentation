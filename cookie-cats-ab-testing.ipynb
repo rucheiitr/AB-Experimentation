{
 "cells": [
  {
   "cell_type": "markdown",
   "id": "46204f69",
   "metadata": {
    "papermill": {
     "duration": 0.042719,
     "end_time": "2022-03-09T15:45:33.244850",
     "exception": false,
     "start_time": "2022-03-09T15:45:33.202131",
     "status": "completed"
    },
    "tags": []
   },
   "source": [
    "**Project Background:** \n",
    "This dataset is from a DataCamp project: https://www.datacamp.com/projects/184.\n",
    "\n",
    "The data is about an A/B test with a mobile game, Cookie Cats.\n",
    "\n",
    "**Objective:** Perform A/B test to determine if moving from Gate 30 to Gate 40 improves the retention rate (a) when assessed over 1 -Day Retention Period (b) when assessed over 7-Day Retention Period "
   ]
  },
  {
   "cell_type": "code",
   "execution_count": 1,
   "id": "2238a775",
   "metadata": {
    "execution": {
     "iopub.execute_input": "2022-03-09T15:45:33.341086Z",
     "iopub.status.busy": "2022-03-09T15:45:33.339264Z",
     "iopub.status.idle": "2022-03-09T15:45:34.371478Z",
     "shell.execute_reply": "2022-03-09T15:45:34.372209Z"
    },
    "papermill": {
     "duration": 1.085894,
     "end_time": "2022-03-09T15:45:34.372599",
     "exception": false,
     "start_time": "2022-03-09T15:45:33.286705",
     "status": "completed"
    },
    "tags": []
   },
   "outputs": [
    {
     "name": "stdout",
     "output_type": "stream",
     "text": [
      "/kaggle/input/mobile-games-ab-testing/cookie_cats.csv\n"
     ]
    }
   ],
   "source": [
    "import numpy as np # linear algebra\n",
    "import pandas as pd # data processing, CSV file I/O (e.g. pd.read_csv)\n",
    "import matplotlib.pyplot as plt\n",
    "import seaborn as sns\n",
    "\n",
    "import os\n",
    "for dirname, _, filenames in os.walk('/kaggle/input'):\n",
    "    for filename in filenames:\n",
    "        print(os.path.join(dirname, filename))"
   ]
  },
  {
   "cell_type": "markdown",
   "id": "816ec39e",
   "metadata": {
    "papermill": {
     "duration": 0.041489,
     "end_time": "2022-03-09T15:45:34.457576",
     "exception": false,
     "start_time": "2022-03-09T15:45:34.416087",
     "status": "completed"
    },
    "tags": []
   },
   "source": [
    "Load the dataset to perform the analysis"
   ]
  },
  {
   "cell_type": "code",
   "execution_count": 2,
   "id": "36c9920b",
   "metadata": {
    "execution": {
     "iopub.execute_input": "2022-03-09T15:45:34.544785Z",
     "iopub.status.busy": "2022-03-09T15:45:34.543817Z",
     "iopub.status.idle": "2022-03-09T15:45:34.653054Z",
     "shell.execute_reply": "2022-03-09T15:45:34.653661Z",
     "shell.execute_reply.started": "2022-03-04T15:23:23.534601Z"
    },
    "papermill": {
     "duration": 0.154848,
     "end_time": "2022-03-09T15:45:34.653842",
     "exception": false,
     "start_time": "2022-03-09T15:45:34.498994",
     "status": "completed"
    },
    "tags": []
   },
   "outputs": [],
   "source": [
    "df = pd.read_csv(\"/kaggle/input/mobile-games-ab-testing/cookie_cats.csv\")"
   ]
  },
  {
   "cell_type": "markdown",
   "id": "855b6d49",
   "metadata": {
    "papermill": {
     "duration": 0.041424,
     "end_time": "2022-03-09T15:45:34.737472",
     "exception": false,
     "start_time": "2022-03-09T15:45:34.696048",
     "status": "completed"
    },
    "tags": []
   },
   "source": [
    "The code below perfoms Bootstrapping and calculates the sample mean for Gate 30 and Gate 40 for 1 Day Retention Rate and 7 Day Retention Rate"
   ]
  },
  {
   "cell_type": "code",
   "execution_count": 3,
   "id": "e7aa761c",
   "metadata": {
    "execution": {
     "iopub.execute_input": "2022-03-09T15:45:34.827800Z",
     "iopub.status.busy": "2022-03-09T15:45:34.824586Z",
     "iopub.status.idle": "2022-03-09T15:45:34.829601Z",
     "shell.execute_reply": "2022-03-09T15:45:34.830148Z",
     "shell.execute_reply.started": "2022-03-04T15:23:27.007628Z"
    },
    "papermill": {
     "duration": 0.050988,
     "end_time": "2022-03-09T15:45:34.830318",
     "exception": false,
     "start_time": "2022-03-09T15:45:34.779330",
     "status": "completed"
    },
    "tags": []
   },
   "outputs": [],
   "source": [
    "#Function to perform Bootstrapping\n",
    "def bootstrap(data,size):\n",
    "    sample_mean=[]\n",
    "    for i in range(0,size):\n",
    "        sample=np.random.choice(data,len(data), replace=True)\n",
    "        sample_mean.append(np.mean(sample))\n",
    "    \n",
    "    return sample_mean    "
   ]
  },
  {
   "cell_type": "markdown",
   "id": "65797061",
   "metadata": {
    "papermill": {
     "duration": 0.042082,
     "end_time": "2022-03-09T15:45:34.914730",
     "exception": false,
     "start_time": "2022-03-09T15:45:34.872648",
     "status": "completed"
    },
    "tags": []
   },
   "source": [
    "Look at the basic characterstics of the data"
   ]
  },
  {
   "cell_type": "code",
   "execution_count": 4,
   "id": "81d4cd68",
   "metadata": {
    "execution": {
     "iopub.execute_input": "2022-03-09T15:45:35.003302Z",
     "iopub.status.busy": "2022-03-09T15:45:35.002655Z",
     "iopub.status.idle": "2022-03-09T15:45:35.009287Z",
     "shell.execute_reply": "2022-03-09T15:45:35.009888Z",
     "shell.execute_reply.started": "2022-03-04T15:23:30.844794Z"
    },
    "papermill": {
     "duration": 0.052826,
     "end_time": "2022-03-09T15:45:35.010054",
     "exception": false,
     "start_time": "2022-03-09T15:45:34.957228",
     "status": "completed"
    },
    "tags": []
   },
   "outputs": [
    {
     "data": {
      "text/plain": [
       "(90189, 5)"
      ]
     },
     "execution_count": 4,
     "metadata": {},
     "output_type": "execute_result"
    }
   ],
   "source": [
    "df.shape"
   ]
  },
  {
   "cell_type": "markdown",
   "id": "65b0accf",
   "metadata": {
    "papermill": {
     "duration": 0.042177,
     "end_time": "2022-03-09T15:45:35.094810",
     "exception": false,
     "start_time": "2022-03-09T15:45:35.052633",
     "status": "completed"
    },
    "tags": []
   },
   "source": [
    "Find out number of unique elements for each column"
   ]
  },
  {
   "cell_type": "code",
   "execution_count": 5,
   "id": "bc6ec199",
   "metadata": {
    "execution": {
     "iopub.execute_input": "2022-03-09T15:45:35.189081Z",
     "iopub.status.busy": "2022-03-09T15:45:35.188406Z",
     "iopub.status.idle": "2022-03-09T15:45:35.211724Z",
     "shell.execute_reply": "2022-03-09T15:45:35.212220Z",
     "shell.execute_reply.started": "2022-03-04T15:23:34.718647Z"
    },
    "papermill": {
     "duration": 0.075013,
     "end_time": "2022-03-09T15:45:35.212395",
     "exception": false,
     "start_time": "2022-03-09T15:45:35.137382",
     "status": "completed"
    },
    "tags": []
   },
   "outputs": [
    {
     "data": {
      "text/plain": [
       "userid            90189\n",
       "version               2\n",
       "sum_gamerounds      942\n",
       "retention_1           2\n",
       "retention_7           2\n",
       "dtype: int64"
      ]
     },
     "execution_count": 5,
     "metadata": {},
     "output_type": "execute_result"
    }
   ],
   "source": [
    "df.nunique()"
   ]
  },
  {
   "cell_type": "markdown",
   "id": "652faec1",
   "metadata": {
    "papermill": {
     "duration": 0.042908,
     "end_time": "2022-03-09T15:45:35.298262",
     "exception": false,
     "start_time": "2022-03-09T15:45:35.255354",
     "status": "completed"
    },
    "tags": []
   },
   "source": [
    "Check for any missing or Nans in the dataset"
   ]
  },
  {
   "cell_type": "code",
   "execution_count": 6,
   "id": "6a8de35f",
   "metadata": {
    "execution": {
     "iopub.execute_input": "2022-03-09T15:45:35.387513Z",
     "iopub.status.busy": "2022-03-09T15:45:35.386844Z",
     "iopub.status.idle": "2022-03-09T15:45:35.405223Z",
     "shell.execute_reply": "2022-03-09T15:45:35.404705Z",
     "shell.execute_reply.started": "2022-03-04T15:23:58.341654Z"
    },
    "papermill": {
     "duration": 0.064097,
     "end_time": "2022-03-09T15:45:35.405362",
     "exception": false,
     "start_time": "2022-03-09T15:45:35.341265",
     "status": "completed"
    },
    "tags": []
   },
   "outputs": [
    {
     "data": {
      "text/plain": [
       "userid            0\n",
       "version           0\n",
       "sum_gamerounds    0\n",
       "retention_1       0\n",
       "retention_7       0\n",
       "dtype: int64"
      ]
     },
     "execution_count": 6,
     "metadata": {},
     "output_type": "execute_result"
    }
   ],
   "source": [
    "df.isnull().sum()"
   ]
  },
  {
   "cell_type": "raw",
   "id": "c2107f4e",
   "metadata": {
    "papermill": {
     "duration": 0.042548,
     "end_time": "2022-03-09T15:45:35.490824",
     "exception": false,
     "start_time": "2022-03-09T15:45:35.448276",
     "status": "completed"
    },
    "tags": []
   },
   "source": [
    "Let's look at the basic statistics of the data"
   ]
  },
  {
   "cell_type": "code",
   "execution_count": 7,
   "id": "af850800",
   "metadata": {
    "execution": {
     "iopub.execute_input": "2022-03-09T15:45:35.587578Z",
     "iopub.status.busy": "2022-03-09T15:45:35.586854Z",
     "iopub.status.idle": "2022-03-09T15:45:35.613049Z",
     "shell.execute_reply": "2022-03-09T15:45:35.613519Z",
     "shell.execute_reply.started": "2022-03-04T15:25:31.072387Z"
    },
    "papermill": {
     "duration": 0.079125,
     "end_time": "2022-03-09T15:45:35.613704",
     "exception": false,
     "start_time": "2022-03-09T15:45:35.534579",
     "status": "completed"
    },
    "tags": []
   },
   "outputs": [
    {
     "data": {
      "text/html": [
       "<div>\n",
       "<style scoped>\n",
       "    .dataframe tbody tr th:only-of-type {\n",
       "        vertical-align: middle;\n",
       "    }\n",
       "\n",
       "    .dataframe tbody tr th {\n",
       "        vertical-align: top;\n",
       "    }\n",
       "\n",
       "    .dataframe thead th {\n",
       "        text-align: right;\n",
       "    }\n",
       "</style>\n",
       "<table border=\"1\" class=\"dataframe\">\n",
       "  <thead>\n",
       "    <tr style=\"text-align: right;\">\n",
       "      <th></th>\n",
       "      <th>userid</th>\n",
       "      <th>sum_gamerounds</th>\n",
       "    </tr>\n",
       "  </thead>\n",
       "  <tbody>\n",
       "    <tr>\n",
       "      <th>count</th>\n",
       "      <td>9.018900e+04</td>\n",
       "      <td>90189.000000</td>\n",
       "    </tr>\n",
       "    <tr>\n",
       "      <th>mean</th>\n",
       "      <td>4.998412e+06</td>\n",
       "      <td>51.872457</td>\n",
       "    </tr>\n",
       "    <tr>\n",
       "      <th>std</th>\n",
       "      <td>2.883286e+06</td>\n",
       "      <td>195.050858</td>\n",
       "    </tr>\n",
       "    <tr>\n",
       "      <th>min</th>\n",
       "      <td>1.160000e+02</td>\n",
       "      <td>0.000000</td>\n",
       "    </tr>\n",
       "    <tr>\n",
       "      <th>25%</th>\n",
       "      <td>2.512230e+06</td>\n",
       "      <td>5.000000</td>\n",
       "    </tr>\n",
       "    <tr>\n",
       "      <th>50%</th>\n",
       "      <td>4.995815e+06</td>\n",
       "      <td>16.000000</td>\n",
       "    </tr>\n",
       "    <tr>\n",
       "      <th>75%</th>\n",
       "      <td>7.496452e+06</td>\n",
       "      <td>51.000000</td>\n",
       "    </tr>\n",
       "    <tr>\n",
       "      <th>max</th>\n",
       "      <td>9.999861e+06</td>\n",
       "      <td>49854.000000</td>\n",
       "    </tr>\n",
       "  </tbody>\n",
       "</table>\n",
       "</div>"
      ],
      "text/plain": [
       "             userid  sum_gamerounds\n",
       "count  9.018900e+04    90189.000000\n",
       "mean   4.998412e+06       51.872457\n",
       "std    2.883286e+06      195.050858\n",
       "min    1.160000e+02        0.000000\n",
       "25%    2.512230e+06        5.000000\n",
       "50%    4.995815e+06       16.000000\n",
       "75%    7.496452e+06       51.000000\n",
       "max    9.999861e+06    49854.000000"
      ]
     },
     "execution_count": 7,
     "metadata": {},
     "output_type": "execute_result"
    }
   ],
   "source": [
    "df.describe()"
   ]
  },
  {
   "cell_type": "markdown",
   "id": "3cc491f6",
   "metadata": {
    "papermill": {
     "duration": 0.043686,
     "end_time": "2022-03-09T15:45:35.701841",
     "exception": false,
     "start_time": "2022-03-09T15:45:35.658155",
     "status": "completed"
    },
    "tags": []
   },
   "source": [
    "There looks to be an outlier for sum_gamerounds. Lets investigate further with visual charts"
   ]
  },
  {
   "cell_type": "code",
   "execution_count": 8,
   "id": "3f540fc3",
   "metadata": {
    "execution": {
     "iopub.execute_input": "2022-03-09T15:45:35.793049Z",
     "iopub.status.busy": "2022-03-09T15:45:35.792340Z",
     "iopub.status.idle": "2022-03-09T15:45:36.031809Z",
     "shell.execute_reply": "2022-03-09T15:45:36.031209Z",
     "shell.execute_reply.started": "2022-03-04T15:26:11.146232Z"
    },
    "papermill": {
     "duration": 0.286174,
     "end_time": "2022-03-09T15:45:36.031963",
     "exception": false,
     "start_time": "2022-03-09T15:45:35.745789",
     "status": "completed"
    },
    "tags": []
   },
   "outputs": [
    {
     "name": "stderr",
     "output_type": "stream",
     "text": [
      "/opt/conda/lib/python3.7/site-packages/seaborn/_decorators.py:43: FutureWarning: Pass the following variable as a keyword arg: x. From version 0.12, the only valid positional argument will be `data`, and passing other arguments without an explicit keyword will result in an error or misinterpretation.\n",
      "  FutureWarning\n"
     ]
    },
    {
     "data": {
      "text/plain": [
       "<AxesSubplot:xlabel='sum_gamerounds'>"
      ]
     },
     "execution_count": 8,
     "metadata": {},
     "output_type": "execute_result"
    },
    {
     "data": {
      "image/png": "[encoded data removed]",
      "text/plain": [
       "<Figure size 432x288 with 1 Axes>"
      ]
     },
     "metadata": {
      "needs_background": "light"
     },
     "output_type": "display_data"
    }
   ],
   "source": [
    "#Box Plot - to check for outlier\n",
    "sns.boxplot(df['sum_gamerounds'])\n",
    "#Clearly there exists an outlier"
   ]
  },
  {
   "cell_type": "markdown",
   "id": "e2a97f8e",
   "metadata": {
    "papermill": {
     "duration": 0.044602,
     "end_time": "2022-03-09T15:45:36.122418",
     "exception": false,
     "start_time": "2022-03-09T15:45:36.077816",
     "status": "completed"
    },
    "tags": []
   },
   "source": [
    "Box Plot shows confirms the presence of an outlier. We will also plot scatter plot to confirm our analysis"
   ]
  },
  {
   "cell_type": "code",
   "execution_count": 9,
   "id": "7ef4dc2c",
   "metadata": {
    "execution": {
     "iopub.execute_input": "2022-03-09T15:45:36.223578Z",
     "iopub.status.busy": "2022-03-09T15:45:36.222490Z",
     "iopub.status.idle": "2022-03-09T15:45:36.594689Z",
     "shell.execute_reply": "2022-03-09T15:45:36.595257Z",
     "shell.execute_reply.started": "2022-03-04T15:26:59.729612Z"
    },
    "papermill": {
     "duration": 0.427149,
     "end_time": "2022-03-09T15:45:36.595426",
     "exception": false,
     "start_time": "2022-03-09T15:45:36.168277",
     "status": "completed"
    },
    "tags": []
   },
   "outputs": [
    {
     "data": {
      "image/png": "[encoded data removed]",
      "text/plain": [
       "<Figure size 1296x720 with 1 Axes>"
      ]
     },
     "metadata": {
      "needs_background": "light"
     },
     "output_type": "display_data"
    }
   ],
   "source": [
    "#Scatter Plot to confirm the outlier\n",
    "fig,ax=plt.subplots(figsize =(18,10))\n",
    "ax.scatter(df['userid'], df['sum_gamerounds'])\n",
    "plt.show()"
   ]
  },
  {
   "cell_type": "markdown",
   "id": "4abc5029",
   "metadata": {
    "papermill": {
     "duration": 0.045173,
     "end_time": "2022-03-09T15:45:36.686826",
     "exception": false,
     "start_time": "2022-03-09T15:45:36.641653",
     "status": "completed"
    },
    "tags": []
   },
   "source": [
    "Based on box plot and scatter plot, there exists an outlier. We will remove the outlier using Inter-Quartile Range"
   ]
  },
  {
   "cell_type": "code",
   "execution_count": 10,
   "id": "241c4849",
   "metadata": {
    "execution": {
     "iopub.execute_input": "2022-03-09T15:45:36.782592Z",
     "iopub.status.busy": "2022-03-09T15:45:36.781641Z",
     "iopub.status.idle": "2022-03-09T15:45:36.794449Z",
     "shell.execute_reply": "2022-03-09T15:45:36.795000Z",
     "shell.execute_reply.started": "2022-03-04T15:27:52.821819Z"
    },
    "papermill": {
     "duration": 0.062729,
     "end_time": "2022-03-09T15:45:36.795187",
     "exception": false,
     "start_time": "2022-03-09T15:45:36.732458",
     "status": "completed"
    },
    "tags": []
   },
   "outputs": [],
   "source": [
    "#Determine the outlier using the InterQuartile Range\n",
    "q1=np.percentile(df['sum_gamerounds'],25,interpolation = 'midpoint')\n",
    "q3=np.percentile(df['sum_gamerounds'],75,interpolation = 'midpoint')\n",
    "IQR=q3-q1\n",
    "#Remove the outlier based on IQR Range\n",
    "df1=df[(df['sum_gamerounds'] <=   (q3+ 1.5*IQR))& (df['sum_gamerounds'] >=   (q1- 1.5*IQR))]"
   ]
  },
  {
   "cell_type": "markdown",
   "id": "481ffd5b",
   "metadata": {
    "papermill": {
     "duration": 0.045572,
     "end_time": "2022-03-09T15:45:36.886546",
     "exception": false,
     "start_time": "2022-03-09T15:45:36.840974",
     "status": "completed"
    },
    "tags": []
   },
   "source": [
    "Lets check our data again after removing the outlier"
   ]
  },
  {
   "cell_type": "code",
   "execution_count": 11,
   "id": "4f217ed1",
   "metadata": {
    "execution": {
     "iopub.execute_input": "2022-03-09T15:45:36.981308Z",
     "iopub.status.busy": "2022-03-09T15:45:36.980319Z",
     "iopub.status.idle": "2022-03-09T15:45:37.176937Z",
     "shell.execute_reply": "2022-03-09T15:45:37.177417Z",
     "shell.execute_reply.started": "2022-03-04T15:28:28.11371Z"
    },
    "papermill": {
     "duration": 0.245785,
     "end_time": "2022-03-09T15:45:37.177597",
     "exception": false,
     "start_time": "2022-03-09T15:45:36.931812",
     "status": "completed"
    },
    "tags": []
   },
   "outputs": [
    {
     "name": "stderr",
     "output_type": "stream",
     "text": [
      "/opt/conda/lib/python3.7/site-packages/seaborn/_decorators.py:43: FutureWarning: Pass the following variable as a keyword arg: x. From version 0.12, the only valid positional argument will be `data`, and passing other arguments without an explicit keyword will result in an error or misinterpretation.\n",
      "  FutureWarning\n"
     ]
    },
    {
     "data": {
      "text/plain": [
       "<AxesSubplot:xlabel='sum_gamerounds'>"
      ]
     },
     "execution_count": 11,
     "metadata": {},
     "output_type": "execute_result"
    },
    {
     "data": {
      "image/png": "[encoded data removed]",
      "text/plain": [
       "<Figure size 432x288 with 1 Axes>"
      ]
     },
     "metadata": {
      "needs_background": "light"
     },
     "output_type": "display_data"
    }
   ],
   "source": [
    "#Analysis after removing the outlier\n",
    "df1.describe()\n",
    "sns.boxplot(df1['sum_gamerounds'])\n",
    "\n",
    "#No Outliers,though the data is right skewed"
   ]
  },
  {
   "cell_type": "markdown",
   "id": "5ae75e2b",
   "metadata": {
    "papermill": {
     "duration": 0.047345,
     "end_time": "2022-03-09T15:45:37.272953",
     "exception": false,
     "start_time": "2022-03-09T15:45:37.225608",
     "status": "completed"
    },
    "tags": []
   },
   "source": [
    "Clearly there is no outlier. Lets plot histogram as well"
   ]
  },
  {
   "cell_type": "code",
   "execution_count": 12,
   "id": "293c53b9",
   "metadata": {
    "execution": {
     "iopub.execute_input": "2022-03-09T15:45:37.371521Z",
     "iopub.status.busy": "2022-03-09T15:45:37.370540Z",
     "iopub.status.idle": "2022-03-09T15:45:37.603063Z",
     "shell.execute_reply": "2022-03-09T15:45:37.602543Z",
     "shell.execute_reply.started": "2022-03-04T15:28:55.645792Z"
    },
    "papermill": {
     "duration": 0.283161,
     "end_time": "2022-03-09T15:45:37.603228",
     "exception": false,
     "start_time": "2022-03-09T15:45:37.320067",
     "status": "completed"
    },
    "tags": []
   },
   "outputs": [
    {
     "data": {
      "image/png": "[encoded data removed]",
      "text/plain": [
       "<Figure size 1296x720 with 1 Axes>"
      ]
     },
     "metadata": {
      "needs_background": "light"
     },
     "output_type": "display_data"
    }
   ],
   "source": [
    "#Histogram to check if the variable \"sum_gamerounds\" is skewed\n",
    "fig,ax=plt.subplots(figsize =(18,10))\n",
    "ax.hist(df1['sum_gamerounds'])\n",
    "plt.show()"
   ]
  },
  {
   "cell_type": "markdown",
   "id": "4ae6a00c",
   "metadata": {
    "papermill": {
     "duration": 0.048138,
     "end_time": "2022-03-09T15:45:37.699583",
     "exception": false,
     "start_time": "2022-03-09T15:45:37.651445",
     "status": "completed"
    },
    "tags": []
   },
   "source": [
    "Perfomrm the A/B testing on 1-Day Retention Rate"
   ]
  },
  {
   "cell_type": "code",
   "execution_count": 13,
   "id": "b62899bc",
   "metadata": {
    "execution": {
     "iopub.execute_input": "2022-03-09T15:45:37.799022Z",
     "iopub.status.busy": "2022-03-09T15:45:37.798398Z",
     "iopub.status.idle": "2022-03-09T15:45:37.804950Z",
     "shell.execute_reply": "2022-03-09T15:45:37.804398Z",
     "shell.execute_reply.started": "2022-03-04T15:30:59.224097Z"
    },
    "papermill": {
     "duration": 0.057463,
     "end_time": "2022-03-09T15:45:37.805085",
     "exception": false,
     "start_time": "2022-03-09T15:45:37.747622",
     "status": "completed"
    },
    "tags": []
   },
   "outputs": [
    {
     "name": "stdout",
     "output_type": "stream",
     "text": [
      "Overall 1 Day Retention Rate: 38.620%\n"
     ]
    }
   ],
   "source": [
    "#1 Day Retention Rate Analysis\n",
    "#Calculate the retention rate for the overall population for 1-day retention\n",
    "rate_1= df1['retention_1'].sum()/df1['retention_1'].count()\n",
    "print(\"Overall 1 Day Retention Rate: \" \"{:.3%}\".format(rate_1))"
   ]
  },
  {
   "cell_type": "markdown",
   "id": "de1f0d42",
   "metadata": {
    "papermill": {
     "duration": 0.048862,
     "end_time": "2022-03-09T15:45:37.903786",
     "exception": false,
     "start_time": "2022-03-09T15:45:37.854924",
     "status": "completed"
    },
    "tags": []
   },
   "source": [
    "Lets calulate the 1 Day Retention Rate for Gate 30 and Gate 40 "
   ]
  },
  {
   "cell_type": "code",
   "execution_count": 14,
   "id": "245416fc",
   "metadata": {
    "execution": {
     "iopub.execute_input": "2022-03-09T15:45:38.006664Z",
     "iopub.status.busy": "2022-03-09T15:45:38.005937Z",
     "iopub.status.idle": "2022-03-09T15:45:38.032569Z",
     "shell.execute_reply": "2022-03-09T15:45:38.033454Z",
     "shell.execute_reply.started": "2022-03-04T15:49:10.746869Z"
    },
    "papermill": {
     "duration": 0.080448,
     "end_time": "2022-03-09T15:45:38.033714",
     "exception": false,
     "start_time": "2022-03-09T15:45:37.953266",
     "status": "completed"
    },
    "tags": []
   },
   "outputs": [
    {
     "name": "stdout",
     "output_type": "stream",
     "text": [
      "1 Day Retention Rate for Gate 30: 34.503%\n",
      "1 Day Retention Rate for Gate 40: 34.026%\n"
     ]
    }
   ],
   "source": [
    "#Calculate the 1-day retention rate by version\n",
    "rate_1_gp = df1.groupby('version')['retention_1'].sum()/df.groupby('version')['retention_1'].count()\n",
    "print(\"1 Day Retention Rate for Gate 30: \" \"{:.3%}\".format(rate_1_gp[0]))\n",
    "print(\"1 Day Retention Rate for Gate 40: \" \"{:.3%}\".format(rate_1_gp[1]))\n"
   ]
  },
  {
   "cell_type": "markdown",
   "id": "3f99f06d",
   "metadata": {
    "papermill": {
     "duration": 0.050163,
     "end_time": "2022-03-09T15:45:38.134158",
     "exception": false,
     "start_time": "2022-03-09T15:45:38.083995",
     "status": "completed"
    },
    "tags": []
   },
   "source": [
    "Based on 1-day Retention, the conversion rate for Gate 30 looks very much similar to Gate 40. Lets do the visual check as well "
   ]
  },
  {
   "cell_type": "code",
   "execution_count": 15,
   "id": "58f459b1",
   "metadata": {
    "execution": {
     "iopub.execute_input": "2022-03-09T15:45:38.239598Z",
     "iopub.status.busy": "2022-03-09T15:45:38.238895Z",
     "iopub.status.idle": "2022-03-09T15:45:39.366950Z",
     "shell.execute_reply": "2022-03-09T15:45:39.367431Z",
     "shell.execute_reply.started": "2022-03-04T15:49:38.012604Z"
    },
    "papermill": {
     "duration": 1.181912,
     "end_time": "2022-03-09T15:45:39.367613",
     "exception": false,
     "start_time": "2022-03-09T15:45:38.185701",
     "status": "completed"
    },
    "tags": []
   },
   "outputs": [
    {
     "data": {
      "text/plain": [
       "<AxesSubplot:xlabel='version', ylabel='retention_1'>"
      ]
     },
     "execution_count": 15,
     "metadata": {},
     "output_type": "execute_result"
    },
    {
     "data": {
      "image/png": "[encoded data removed]",
      "text/plain": [
       "<Figure size 432x288 with 1 Axes>"
      ]
     },
     "metadata": {
      "needs_background": "light"
     },
     "output_type": "display_data"
    }
   ],
   "source": [
    "#Plot 1-day Retention Rate\n",
    "sns.barplot(x=df1['version'],y=df1['retention_1'])\n"
   ]
  },
  {
   "cell_type": "markdown",
   "id": "47d00b8a",
   "metadata": {
    "papermill": {
     "duration": 0.050224,
     "end_time": "2022-03-09T15:45:39.468300",
     "exception": false,
     "start_time": "2022-03-09T15:45:39.418076",
     "status": "completed"
    },
    "tags": []
   },
   "source": [
    "Box plot also shows the 1 Day Retention Rate to be very similar for Gate 30 vs Gate 40.\n",
    "We will do A/B testing to confirm the analysis. Let's put the hypothesis before:\n",
    "Null Hypothesis: 1 Day Retention Rate is same for Gate 30 and Gate 40\n",
    "Alternate Hypothesis: 1 Day Retention Rate is more for Gate 30 compared to Gate 40"
   ]
  },
  {
   "cell_type": "code",
   "execution_count": 16,
   "id": "8e6aa770",
   "metadata": {
    "execution": {
     "iopub.execute_input": "2022-03-09T15:45:39.572375Z",
     "iopub.status.busy": "2022-03-09T15:45:39.571782Z",
     "iopub.status.idle": "2022-03-09T15:48:26.491028Z",
     "shell.execute_reply": "2022-03-09T15:48:26.491548Z",
     "shell.execute_reply.started": "2022-03-04T15:52:30.116696Z"
    },
    "papermill": {
     "duration": 166.973225,
     "end_time": "2022-03-09T15:48:26.491764",
     "exception": false,
     "start_time": "2022-03-09T15:45:39.518539",
     "status": "completed"
    },
    "tags": []
   },
   "outputs": [],
   "source": [
    "# Perform Bootstrapping on the samples for Gate_30 and Gate_40 for 1-Day Retention\n",
    "gate_30_r1=df1[df1['version'] == 'gate_30']['retention_1']\n",
    "gate_40_r1=df1[df1['version'] == 'gate_40']['retention_1']\n",
    "gate30_r1_mean=bootstrap(gate_30_r1,100000)\n",
    "gate40_r1_mean=bootstrap(gate_40_r1,100000)"
   ]
  },
  {
   "cell_type": "code",
   "execution_count": 17,
   "id": "b9e93c7c",
   "metadata": {
    "execution": {
     "iopub.execute_input": "2022-03-09T15:48:26.602950Z",
     "iopub.status.busy": "2022-03-09T15:48:26.602207Z",
     "iopub.status.idle": "2022-03-09T15:48:26.717178Z",
     "shell.execute_reply": "2022-03-09T15:48:26.716617Z",
     "shell.execute_reply.started": "2022-03-04T15:58:14.172477Z"
    },
    "papermill": {
     "duration": 0.17391,
     "end_time": "2022-03-09T15:48:26.717326",
     "exception": false,
     "start_time": "2022-03-09T15:48:26.543416",
     "status": "completed"
    },
    "tags": []
   },
   "outputs": [],
   "source": [
    "#Perfom the comparison on the Means created from Gate 30 and Gate 40\n",
    "gate30_40_r1=pd.DataFrame(columns=['Gate30_r1', 'Gate40_r1'])\n",
    "gate30_40_r1['Gate30_r1'] = gate30_r1_mean\n",
    "gate30_40_r1['Gate40_r1'] = gate40_r1_mean"
   ]
  },
  {
   "cell_type": "code",
   "execution_count": 18,
   "id": "5f503ea1",
   "metadata": {
    "execution": {
     "iopub.execute_input": "2022-03-09T15:48:26.826153Z",
     "iopub.status.busy": "2022-03-09T15:48:26.825529Z",
     "iopub.status.idle": "2022-03-09T15:48:30.603691Z",
     "shell.execute_reply": "2022-03-09T15:48:30.602594Z",
     "shell.execute_reply.started": "2022-03-04T15:58:18.514493Z"
    },
    "papermill": {
     "duration": 3.83485,
     "end_time": "2022-03-09T15:48:30.603841",
     "exception": false,
     "start_time": "2022-03-09T15:48:26.768991",
     "status": "completed"
    },
    "tags": []
   },
   "outputs": [
    {
     "data": {
      "image/png": "[encoded data removed]",
      "text/plain": [
       "<Figure size 432x288 with 1 Axes>"
      ]
     },
     "metadata": {
      "needs_background": "light"
     },
     "output_type": "display_data"
    }
   ],
   "source": [
    "#Plot the Density Chart\n",
    "gate30_40_r1.plot(kind='density')\n",
    "plt.title(\"1-Day Retention comparison between the Means created by Bootstrapping for Gate 30 and Gate 40 \")\n",
    "plt.xlabel(\"Retention Rate \")\n",
    "plt.ylabel(\"Density\")\n",
    "plt.show()"
   ]
  },
  {
   "cell_type": "markdown",
   "id": "96ea062f",
   "metadata": {
    "papermill": {
     "duration": 0.050949,
     "end_time": "2022-03-09T15:48:30.707499",
     "exception": false,
     "start_time": "2022-03-09T15:48:30.656550",
     "status": "completed"
    },
    "tags": []
   },
   "source": [
    "The graph are very close. Lets look at the differnce as well"
   ]
  },
  {
   "cell_type": "code",
   "execution_count": 19,
   "id": "3bf334db",
   "metadata": {
    "execution": {
     "iopub.execute_input": "2022-03-09T15:48:30.816143Z",
     "iopub.status.busy": "2022-03-09T15:48:30.815426Z",
     "iopub.status.idle": "2022-03-09T15:48:32.776743Z",
     "shell.execute_reply": "2022-03-09T15:48:32.776167Z",
     "shell.execute_reply.started": "2022-03-04T15:59:38.740057Z"
    },
    "papermill": {
     "duration": 2.018128,
     "end_time": "2022-03-09T15:48:32.776892",
     "exception": false,
     "start_time": "2022-03-09T15:48:30.758764",
     "status": "completed"
    },
    "tags": []
   },
   "outputs": [
    {
     "data": {
      "image/png": "[encoded data removed]",
      "text/plain": [
       "<Figure size 432x288 with 1 Axes>"
      ]
     },
     "metadata": {
      "needs_background": "light"
     },
     "output_type": "display_data"
    }
   ],
   "source": [
    "gate30_40_r1['diff']=100*(gate30_40_r1['Gate30_r1'] - gate30_40_r1['Gate40_r1'])/(gate30_40_r1['Gate30_r1'])\n",
    "gate30_40_r1['diff'].plot(kind='density')\n",
    "plt.title(\"1-Day Retention Mean difference between Gate 30 and Gate 40\")\n",
    "plt.xlabel(\"% Mean Difference\")\n",
    "plt.ylabel(\"Density\")\n",
    "plt.show()"
   ]
  },
  {
   "cell_type": "markdown",
   "id": "5dc5f29c",
   "metadata": {
    "papermill": {
     "duration": 0.052672,
     "end_time": "2022-03-09T15:48:32.883118",
     "exception": false,
     "start_time": "2022-03-09T15:48:32.830446",
     "status": "completed"
    },
    "tags": []
   },
   "source": [
    "The graph shows most of the difference between 1% - 2% for Gate 30 and Gate 40. Next step is to calculate the probability that the 1-Day Retention Rate is better for Gate 30 compared to Gate 40"
   ]
  },
  {
   "cell_type": "code",
   "execution_count": 20,
   "id": "3af2b1bb",
   "metadata": {
    "execution": {
     "iopub.execute_input": "2022-03-09T15:48:32.993528Z",
     "iopub.status.busy": "2022-03-09T15:48:32.992882Z",
     "iopub.status.idle": "2022-03-09T15:48:32.997505Z",
     "shell.execute_reply": "2022-03-09T15:48:32.996936Z",
     "shell.execute_reply.started": "2022-03-04T16:01:10.340978Z"
    },
    "papermill": {
     "duration": 0.06161,
     "end_time": "2022-03-09T15:48:32.997628",
     "exception": false,
     "start_time": "2022-03-09T15:48:32.936018",
     "status": "completed"
    },
    "tags": []
   },
   "outputs": [
    {
     "name": "stdout",
     "output_type": "stream",
     "text": [
      "Probability that 1 Day Retention Rate is better for Gate 30 compared to Gate 40: 95.235%\n"
     ]
    }
   ],
   "source": [
    "prob_r1_30_40= ((gate30_40_r1['diff'] >0).sum())/(gate30_40_r1['diff'].count())\n",
    "print(\"Probability that 1 Day Retention Rate is better for Gate 30 compared to Gate 40:\", \"{:.3%}\".format(prob_r1_30_40))\n"
   ]
  },
  {
   "cell_type": "markdown",
   "id": "a2acf869",
   "metadata": {
    "papermill": {
     "duration": 0.052665,
     "end_time": "2022-03-09T15:48:33.103967",
     "exception": false,
     "start_time": "2022-03-09T15:48:33.051302",
     "status": "completed"
    },
    "tags": []
   },
   "source": [
    "There is 95.27% probability that 1 Day Retention Rate is better for Gate 30 compared to Gate 40. At 5% and 1% alpha, we fail to reject the Null Hypothesis that 1 Day Retention Rate is same for Gate 30 and Gate 40"
   ]
  },
  {
   "cell_type": "markdown",
   "id": "51fb60ff",
   "metadata": {
    "papermill": {
     "duration": 0.052785,
     "end_time": "2022-03-09T15:48:33.210018",
     "exception": false,
     "start_time": "2022-03-09T15:48:33.157233",
     "status": "completed"
    },
    "tags": []
   },
   "source": [
    "We will repeat the above analysis for 7 Day Retention Rate"
   ]
  },
  {
   "cell_type": "code",
   "execution_count": 21,
   "id": "af5693df",
   "metadata": {
    "execution": {
     "iopub.execute_input": "2022-03-09T15:48:33.320051Z",
     "iopub.status.busy": "2022-03-09T15:48:33.319429Z",
     "iopub.status.idle": "2022-03-09T15:48:33.325483Z",
     "shell.execute_reply": "2022-03-09T15:48:33.326151Z",
     "shell.execute_reply.started": "2022-03-04T16:03:32.731652Z"
    },
    "papermill": {
     "duration": 0.063314,
     "end_time": "2022-03-09T15:48:33.326379",
     "exception": false,
     "start_time": "2022-03-09T15:48:33.263065",
     "status": "completed"
    },
    "tags": []
   },
   "outputs": [
    {
     "name": "stdout",
     "output_type": "stream",
     "text": [
      "Overall 7 Day Retention Rate: 11.392%\n"
     ]
    }
   ],
   "source": [
    "#7 Day Retention Rate Analysis\n",
    "#Calculate the retention rate for the overall population for 7-day retention\n",
    "rate_7= df1['retention_7'].sum()/df1['retention_7'].count()\n",
    "print(\"Overall 7 Day Retention Rate: \" \"{:.3%}\".format(rate_7))"
   ]
  },
  {
   "cell_type": "code",
   "execution_count": 22,
   "id": "f1f74329",
   "metadata": {
    "execution": {
     "iopub.execute_input": "2022-03-09T15:48:33.445923Z",
     "iopub.status.busy": "2022-03-09T15:48:33.444880Z",
     "iopub.status.idle": "2022-03-09T15:48:33.460542Z",
     "shell.execute_reply": "2022-03-09T15:48:33.461162Z",
     "shell.execute_reply.started": "2022-03-04T16:04:37.256587Z"
    },
    "papermill": {
     "duration": 0.081003,
     "end_time": "2022-03-09T15:48:33.461411",
     "exception": false,
     "start_time": "2022-03-09T15:48:33.380408",
     "status": "completed"
    },
    "tags": []
   },
   "outputs": [
    {
     "name": "stdout",
     "output_type": "stream",
     "text": [
      "7 Day Retention Rate for Gate 30: 10.474%\n",
      "7 Day Retention Rate for Gate 40: 9.745%\n"
     ]
    }
   ],
   "source": [
    "#Calculate the 7-day retention rate by version\n",
    "rate_7_gp= df1.groupby('version')['retention_7'].sum()/df.groupby('version')['retention_7'].count()\n",
    "print(\"7 Day Retention Rate for Gate 30: \" \"{:.3%}\".format(rate_7_gp[0]))\n",
    "print(\"7 Day Retention Rate for Gate 40: \" \"{:.3%}\".format(rate_7_gp[1]))\n"
   ]
  },
  {
   "cell_type": "markdown",
   "id": "b59d74ac",
   "metadata": {
    "papermill": {
     "duration": 0.053672,
     "end_time": "2022-03-09T15:48:33.569679",
     "exception": false,
     "start_time": "2022-03-09T15:48:33.516007",
     "status": "completed"
    },
    "tags": []
   },
   "source": [
    "Based on 7-day Retention, the conversion rate for Gate 30 looks better than Gate 40. We will do the visual check to confirm our results"
   ]
  },
  {
   "cell_type": "code",
   "execution_count": 23,
   "id": "8bcc8086",
   "metadata": {
    "execution": {
     "iopub.execute_input": "2022-03-09T15:48:33.700176Z",
     "iopub.status.busy": "2022-03-09T15:48:33.699514Z",
     "iopub.status.idle": "2022-03-09T15:48:34.788129Z",
     "shell.execute_reply": "2022-03-09T15:48:34.788570Z",
     "shell.execute_reply.started": "2022-03-04T16:05:11.839991Z"
    },
    "papermill": {
     "duration": 1.165437,
     "end_time": "2022-03-09T15:48:34.788743",
     "exception": false,
     "start_time": "2022-03-09T15:48:33.623306",
     "status": "completed"
    },
    "tags": []
   },
   "outputs": [
    {
     "data": {
      "text/plain": [
       "<AxesSubplot:xlabel='version', ylabel='retention_7'>"
      ]
     },
     "execution_count": 23,
     "metadata": {},
     "output_type": "execute_result"
    },
    {
     "data": {
      "image/png": "[encoded data removed]",
      "text/plain": [
       "<Figure size 432x288 with 1 Axes>"
      ]
     },
     "metadata": {
      "needs_background": "light"
     },
     "output_type": "display_data"
    }
   ],
   "source": [
    "#plot the retention rate\n",
    "sns.barplot(x=df1['version'], y=df1['retention_7'])"
   ]
  },
  {
   "cell_type": "code",
   "execution_count": 24,
   "id": "dbf0fe3d",
   "metadata": {
    "execution": {
     "iopub.execute_input": "2022-03-09T15:48:34.921821Z",
     "iopub.status.busy": "2022-03-09T15:48:34.921154Z",
     "iopub.status.idle": "2022-03-09T15:51:22.481407Z",
     "shell.execute_reply": "2022-03-09T15:51:22.480748Z",
     "shell.execute_reply.started": "2022-03-04T16:05:38.408995Z"
    },
    "papermill": {
     "duration": 167.636556,
     "end_time": "2022-03-09T15:51:22.481570",
     "exception": false,
     "start_time": "2022-03-09T15:48:34.845014",
     "status": "completed"
    },
    "tags": []
   },
   "outputs": [],
   "source": [
    "# Perform Bootstrapping on the samples for Gate_30 and Gate_40 for 7-Day Retention\n",
    "gate_30_r7=df1[df1['version'] == 'gate_30']['retention_7']\n",
    "gate_40_r7=df1[df1['version'] == 'gate_40']['retention_7']\n",
    "\n",
    "gate30_r7_mean=bootstrap(gate_30_r7,100000)\n",
    "gate40_r7_mean=bootstrap(gate_40_r7,100000)"
   ]
  },
  {
   "cell_type": "code",
   "execution_count": 25,
   "id": "29f13f57",
   "metadata": {
    "execution": {
     "iopub.execute_input": "2022-03-09T15:51:22.633676Z",
     "iopub.status.busy": "2022-03-09T15:51:22.601232Z",
     "iopub.status.idle": "2022-03-09T15:51:22.721334Z",
     "shell.execute_reply": "2022-03-09T15:51:22.720741Z",
     "shell.execute_reply.started": "2022-03-04T16:12:32.235957Z"
    },
    "papermill": {
     "duration": 0.183596,
     "end_time": "2022-03-09T15:51:22.721518",
     "exception": false,
     "start_time": "2022-03-09T15:51:22.537922",
     "status": "completed"
    },
    "tags": []
   },
   "outputs": [],
   "source": [
    "#Perfom the comparison on the Means created from Gate 30 and Gate 40\n",
    "gate30_40_r7=pd.DataFrame(columns=['Gate30_r7','Gate40_r7'])\n",
    "gate30_40_r7['Gate30_r7']=gate30_r7_mean\n",
    "gate30_40_r7['Gate40_r7']=gate40_r7_mean\n"
   ]
  },
  {
   "cell_type": "code",
   "execution_count": 26,
   "id": "e585fa7d",
   "metadata": {
    "execution": {
     "iopub.execute_input": "2022-03-09T15:51:22.839406Z",
     "iopub.status.busy": "2022-03-09T15:51:22.838661Z",
     "iopub.status.idle": "2022-03-09T15:51:26.662978Z",
     "shell.execute_reply": "2022-03-09T15:51:26.663505Z",
     "shell.execute_reply.started": "2022-03-04T16:12:34.720171Z"
    },
    "papermill": {
     "duration": 3.886801,
     "end_time": "2022-03-09T15:51:26.663697",
     "exception": false,
     "start_time": "2022-03-09T15:51:22.776896",
     "status": "completed"
    },
    "tags": []
   },
   "outputs": [
    {
     "data": {
      "image/png": "[encoded data removed]",
      "text/plain": [
       "<Figure size 432x288 with 1 Axes>"
      ]
     },
     "metadata": {
      "needs_background": "light"
     },
     "output_type": "display_data"
    }
   ],
   "source": [
    "#Plot the Density Chart\n",
    "gate30_40_r7.plot(kind='density')\n",
    "plt.title(\"7-Day Retention comparison between the Means created by Bootstrapping for Gate 30 and Gate 40 \")\n",
    "plt.xlabel(\"Retention Rate \")\n",
    "plt.ylabel(\"Density\")\n",
    "plt.show()"
   ]
  },
  {
   "cell_type": "code",
   "execution_count": 27,
   "id": "56c99c4b",
   "metadata": {
    "execution": {
     "iopub.execute_input": "2022-03-09T15:51:26.785741Z",
     "iopub.status.busy": "2022-03-09T15:51:26.782260Z",
     "iopub.status.idle": "2022-03-09T15:51:28.772741Z",
     "shell.execute_reply": "2022-03-09T15:51:28.773210Z",
     "shell.execute_reply.started": "2022-03-04T16:12:58.313573Z"
    },
    "papermill": {
     "duration": 2.051387,
     "end_time": "2022-03-09T15:51:28.773397",
     "exception": false,
     "start_time": "2022-03-09T15:51:26.722010",
     "status": "completed"
    },
    "tags": []
   },
   "outputs": [
    {
     "data": {
      "image/png": "[encoded data removed]",
      "text/plain": [
       "<Figure size 432x288 with 1 Axes>"
      ]
     },
     "metadata": {
      "needs_background": "light"
     },
     "output_type": "display_data"
    }
   ],
   "source": [
    "gate30_40_r7['diff']=100*(gate30_40_r7['Gate30_r7'] - gate30_40_r7['Gate40_r7'])/(gate30_40_r7['Gate30_r7'])\n",
    "\n",
    "#Plot the Density Chart\n",
    "gate30_40_r7['diff'].plot(kind='density')\n",
    "plt.title(\"7-Day Retention Mean difference between Gate 30 and Gate 40\")\n",
    "plt.xlabel(\"% Mean Difference\")\n",
    "plt.ylabel(\"Density\")\n",
    "plt.show()"
   ]
  },
  {
   "cell_type": "markdown",
   "id": "1603b042",
   "metadata": {
    "papermill": {
     "duration": 0.057307,
     "end_time": "2022-03-09T15:51:28.889361",
     "exception": false,
     "start_time": "2022-03-09T15:51:28.832054",
     "status": "completed"
    },
    "tags": []
   },
   "source": [
    "The graph shows most of the difference between 5% - 8% for Gate 30 and Gate 40. Next step is to calculate the probability that the 7-Day Retention Rate is better for Gate 30 compared to Gate 40"
   ]
  },
  {
   "cell_type": "code",
   "execution_count": 28,
   "id": "9c8e3113",
   "metadata": {
    "execution": {
     "iopub.execute_input": "2022-03-09T15:51:29.011012Z",
     "iopub.status.busy": "2022-03-09T15:51:29.010021Z",
     "iopub.status.idle": "2022-03-09T15:51:29.018091Z",
     "shell.execute_reply": "2022-03-09T15:51:29.018935Z",
     "shell.execute_reply.started": "2022-03-04T16:13:49.407743Z"
    },
    "papermill": {
     "duration": 0.071373,
     "end_time": "2022-03-09T15:51:29.019167",
     "exception": false,
     "start_time": "2022-03-09T15:51:28.947794",
     "status": "completed"
    },
    "tags": []
   },
   "outputs": [
    {
     "name": "stdout",
     "output_type": "stream",
     "text": [
      "Probability that 7 Day Retention Rate is better for Gate 30 compared to Gate 40: 99.989%\n"
     ]
    }
   ],
   "source": [
    "prob_r7_30_40= ((gate30_40_r7['diff'] >0).sum())/(gate30_40_r7['diff'].count())\n",
    "print(\"Probability that 7 Day Retention Rate is better for Gate 30 compared to Gate 40:\", \"{:.3%}\".format(prob_r7_30_40))\n",
    "\n"
   ]
  },
  {
   "cell_type": "markdown",
   "id": "8389e3d7",
   "metadata": {
    "papermill": {
     "duration": 0.057969,
     "end_time": "2022-03-09T15:51:29.135792",
     "exception": false,
     "start_time": "2022-03-09T15:51:29.077823",
     "status": "completed"
    },
    "tags": []
   },
   "source": [
    "There is 99.97% probability that 7 Day Retention Rate is better for Gate 30 compared to Gate 40. At 5% and 1% alpha, we reject the Null Hypothesis that 7 Day Retention Rate is same for Gate 30 and Gate 40"
   ]
  },
  {
   "cell_type": "markdown",
   "id": "056d6992",
   "metadata": {
    "papermill": {
     "duration": 0.057761,
     "end_time": "2022-03-09T15:51:29.251354",
     "exception": false,
     "start_time": "2022-03-09T15:51:29.193593",
     "status": "completed"
    },
    "tags": []
   },
   "source": [
    "**Conclusion**: Based on the above analysis, it can be concluded that Gate 30 provided better Retention Rate compared to Gate 40 when compared for 7-Day Retention Rate."
   ]
  }
 ],
 "metadata": {
  "kernelspec": {
   "display_name": "Python 3",
   "language": "python",
   "name": "python3"
  },
  "language_info": {
   "codemirror_mode": {
    "name": "ipython",
    "version": 3
   },
   "file_extension": ".py",
   "mimetype": "text/x-python",
   "name": "python",
   "nbconvert_exporter": "python",
   "pygments_lexer": "ipython3",
   "version": "3.7.12"
  },
  "papermill": {
   "default_parameters": {},
   "duration": 366.494083,
   "end_time": "2022-03-09T15:51:30.120477",
   "environment_variables": {},
   "exception": null,
   "input_path": "__notebook__.ipynb",
   "output_path": "__notebook__.ipynb",
   "parameters": {},
   "start_time": "2022-03-09T15:45:23.626394",
   "version": "2.3.3"
  }
 },
 "nbformat": 4,
 "nbformat_minor": 5
}
